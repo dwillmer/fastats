{
 "cells": [
  {
   "cell_type": "markdown",
   "metadata": {},
   "source": [
    "# Numba - CPU parallelisation"
   ]
  },
  {
   "cell_type": "markdown",
   "metadata": {},
   "source": [
    "The choice of whether to use parallel CPU target for any given algorithm depends on a number of factors.  \n",
    "\n",
    "This notebook illustrates how the 'size' and 'shape' of a given dataset may be a factor, for a simple algorithm which is equivalent to the default implementation of  [sklearn.preprocessing.StandardScaler](http://scikit-learn.org/stable/modules/generated/sklearn.preprocessing.StandardScaler.html).\n",
    "\n",
    "More details on numba's parallelisation features are given in the excellent [numba docs](http://numba.pydata.org/numba-doc/0.36.1/user/parallel.html)"
   ]
  },
  {
   "cell_type": "code",
   "execution_count": 1,
   "metadata": {
    "collapsed": true
   },
   "outputs": [],
   "source": [
    "import numpy as np\n",
    "import pandas as pd\n",
    "from numba import njit, prange\n",
    "from pytest import approx\n",
    "from sklearn.datasets import load_iris\n",
    "from sklearn.preprocessing import StandardScaler\n",
    "\n",
    "%matplotlib inline\n",
    "import matplotlib.pyplot as plt\n",
    "import seaborn as sns; sns.set()\n",
    "import matplotlib\n",
    "matplotlib.rc('figure', figsize=(10, 5))"
   ]
  },
  {
   "cell_type": "markdown",
   "metadata": {},
   "source": [
    "Note regding the following algorithms:\n",
    "\n",
    "- **standard**: uses single threaded CPU target\n",
    "- **standard_parallel**: uses parallel CPU target and numba.prange explicit parallel loop"
   ]
  },
  {
   "cell_type": "code",
   "execution_count": 2,
   "metadata": {
    "collapsed": true
   },
   "outputs": [],
   "source": [
    "@njit(parallel=False)\n",
    "def standard(A):\n",
    "    \"\"\"\n",
    "    Standardise data by removing the mean and scaling to unit variance,\n",
    "    equivalent to sklearn StandardScaler.\n",
    "    \"\"\"\n",
    "    n = A.shape[1]\n",
    "    res = np.empty_like(A, dtype=np.float64)\n",
    "\n",
    "    for i in range(n):\n",
    "        data_i = A[:, i]\n",
    "        res[:, i] = (data_i - np.mean(data_i)) / np.std(data_i)\n",
    "\n",
    "    return res"
   ]
  },
  {
   "cell_type": "code",
   "execution_count": 3,
   "metadata": {
    "collapsed": true
   },
   "outputs": [],
   "source": [
    "@njit(parallel=True)\n",
    "def standard_parallel(A):\n",
    "    \"\"\"\n",
    "    Standardise data by removing the mean and scaling to unit variance,\n",
    "    equivalent to sklearn StandardScaler.\n",
    "    \n",
    "    Uses explicit parallel loop; may offer improved performance in some\n",
    "    cases.\n",
    "    \"\"\"\n",
    "    n = A.shape[1]\n",
    "    res = np.empty_like(A, dtype=np.float64)\n",
    "\n",
    "    for i in prange(n):\n",
    "        data_i = A[:, i]\n",
    "        res[:, i] = (data_i - np.mean(data_i)) / np.std(data_i)\n",
    "\n",
    "    return res"
   ]
  },
  {
   "cell_type": "markdown",
   "metadata": {},
   "source": [
    "We're going to use the IRIS dataset (150 rows x 4 columns) for this test."
   ]
  },
  {
   "cell_type": "code",
   "execution_count": 4,
   "metadata": {
    "collapsed": true
   },
   "outputs": [],
   "source": [
    "A = load_iris().data"
   ]
  },
  {
   "cell_type": "code",
   "execution_count": 5,
   "metadata": {
    "collapsed": true
   },
   "outputs": [],
   "source": [
    "expected = StandardScaler().fit_transform(A)"
   ]
  },
  {
   "cell_type": "code",
   "execution_count": 6,
   "metadata": {
    "collapsed": true
   },
   "outputs": [],
   "source": [
    "output = standard(A)"
   ]
  },
  {
   "cell_type": "code",
   "execution_count": 7,
   "metadata": {},
   "outputs": [
    {
     "data": {
      "text/plain": [
       "True"
      ]
     },
     "execution_count": 7,
     "metadata": {},
     "output_type": "execute_result"
    }
   ],
   "source": [
    "np.allclose(output, expected)"
   ]
  },
  {
   "cell_type": "code",
   "execution_count": 8,
   "metadata": {
    "collapsed": true
   },
   "outputs": [],
   "source": [
    "output_parallel = standard_parallel(A)"
   ]
  },
  {
   "cell_type": "code",
   "execution_count": 9,
   "metadata": {},
   "outputs": [
    {
     "data": {
      "text/plain": [
       "True"
      ]
     },
     "execution_count": 9,
     "metadata": {},
     "output_type": "execute_result"
    }
   ],
   "source": [
    "np.allclose(output_parallel, expected)"
   ]
  },
  {
   "cell_type": "code",
   "execution_count": 10,
   "metadata": {
    "collapsed": true
   },
   "outputs": [],
   "source": [
    "def highlight_min(s):\n",
    "    is_min = s == s.min()\n",
    "    return ['background-color: yellow' if v else '' for v in is_min]"
   ]
  },
  {
   "cell_type": "markdown",
   "metadata": {},
   "source": [
    "Firstly, we're going to tile the data 'horizontally' so that we keep the same number of rows but add successively more columns."
   ]
  },
  {
   "cell_type": "code",
   "execution_count": 11,
   "metadata": {},
   "outputs": [
    {
     "name": "stdout",
     "output_type": "stream",
     "text": [
      "1 of 9 complete (150, 4)\n",
      "2 of 9 complete (150, 24)\n",
      "3 of 9 complete (150, 44)\n",
      "4 of 9 complete (150, 64)\n",
      "5 of 9 complete (150, 84)\n",
      "6 of 9 complete (150, 104)\n",
      "7 of 9 complete (150, 124)\n",
      "8 of 9 complete (150, 144)\n",
      "9 of 9 complete (150, 164)\n"
     ]
    }
   ],
   "source": [
    "res = []\n",
    "multiples = range(1, 42, 5)\n",
    "\n",
    "for idx, i in enumerate(multiples):\n",
    "    data = np.tile(A, i)\n",
    "    \n",
    "    o_1 = %timeit -o -q StandardScaler().fit_transform(data)\n",
    "    o_2 = %timeit -o -q standard(data)\n",
    "    o_3 = %timeit -o -q standard_parallel(data)\n",
    "    \n",
    "    res.append((data.shape[1], o_1.best, o_2.best, o_3.best))\n",
    "    print('{0} of {1} complete {2}'.format(idx + 1, len(multiples), data.shape))"
   ]
  },
  {
   "cell_type": "code",
   "execution_count": 12,
   "metadata": {
    "collapsed": true
   },
   "outputs": [],
   "source": [
    "df = pd.DataFrame(res, columns = ['num_cols', 'sklearn', 'numba CPU', 'numba CPU parallel'])"
   ]
  },
  {
   "cell_type": "code",
   "execution_count": 13,
   "metadata": {
    "collapsed": true
   },
   "outputs": [],
   "source": [
    "df = df.set_index('num_cols')\n",
    "df = df.apply(lambda x: 1000 * x)"
   ]
  },
  {
   "cell_type": "code",
   "execution_count": 14,
   "metadata": {},
   "outputs": [
    {
     "data": {
      "text/plain": [
       "<matplotlib.legend.Legend at 0x225a08b5be0>"
      ]
     },
     "execution_count": 14,
     "metadata": {},
     "output_type": "execute_result"
    },
    {
     "data": {
      "image/png": "[encoded data removed]",
      "text/plain": [
       "<matplotlib.figure.Figure at 0x225a08b5c88>"
      ]
     },
     "metadata": {},
     "output_type": "display_data"
    }
   ],
   "source": [
    "ax = df.plot()\n",
    "ax.set_title('Standard scale data: 150 rows by n columns')\n",
    "ax.set_xlabel('Number of columns')\n",
    "ax.set_ylabel('Time (ms)')\n",
    "plt.legend(prop={'size': 14})"
   ]
  },
  {
   "cell_type": "code",
   "execution_count": 15,
   "metadata": {},
   "outputs": [
    {
     "data": {
      "text/html": [
       "<style  type=\"text/css\" >\n",
       "    #T_5041c13a_e24c_11e7_9c13_e4b318f7d478row0_col1 {\n",
       "            background-color:  yellow;\n",
       "        }    #T_5041c13a_e24c_11e7_9c13_e4b318f7d478row1_col1 {\n",
       "            background-color:  yellow;\n",
       "        }    #T_5041c13a_e24c_11e7_9c13_e4b318f7d478row2_col1 {\n",
       "            background-color:  yellow;\n",
       "        }    #T_5041c13a_e24c_11e7_9c13_e4b318f7d478row3_col2 {\n",
       "            background-color:  yellow;\n",
       "        }    #T_5041c13a_e24c_11e7_9c13_e4b318f7d478row4_col2 {\n",
       "            background-color:  yellow;\n",
       "        }    #T_5041c13a_e24c_11e7_9c13_e4b318f7d478row5_col2 {\n",
       "            background-color:  yellow;\n",
       "        }    #T_5041c13a_e24c_11e7_9c13_e4b318f7d478row6_col2 {\n",
       "            background-color:  yellow;\n",
       "        }    #T_5041c13a_e24c_11e7_9c13_e4b318f7d478row7_col2 {\n",
       "            background-color:  yellow;\n",
       "        }    #T_5041c13a_e24c_11e7_9c13_e4b318f7d478row8_col2 {\n",
       "            background-color:  yellow;\n",
       "        }</style>  \n",
       "<table id=\"T_5041c13a_e24c_11e7_9c13_e4b318f7d478\" > \n",
       "<thead>    <tr> \n",
       "        <th class=\"blank level0\" ></th> \n",
       "        <th class=\"col_heading level0 col0\" >sklearn</th> \n",
       "        <th class=\"col_heading level0 col1\" >numba CPU</th> \n",
       "        <th class=\"col_heading level0 col2\" >numba CPU parallel</th> \n",
       "    </tr>    <tr> \n",
       "        <th class=\"index_name level0\" >num_cols</th> \n",
       "        <th class=\"blank\" ></th> \n",
       "        <th class=\"blank\" ></th> \n",
       "        <th class=\"blank\" ></th> \n",
       "    </tr></thead> \n",
       "<tbody>    <tr> \n",
       "        <th id=\"T_5041c13a_e24c_11e7_9c13_e4b318f7d478level0_row0\" class=\"row_heading level0 row0\" >4</th> \n",
       "        <td id=\"T_5041c13a_e24c_11e7_9c13_e4b318f7d478row0_col0\" class=\"data row0 col0\" >0.121786</td> \n",
       "        <td id=\"T_5041c13a_e24c_11e7_9c13_e4b318f7d478row0_col1\" class=\"data row0 col1\" >0.00475795</td> \n",
       "        <td id=\"T_5041c13a_e24c_11e7_9c13_e4b318f7d478row0_col2\" class=\"data row0 col2\" >0.0643363</td> \n",
       "    </tr>    <tr> \n",
       "        <th id=\"T_5041c13a_e24c_11e7_9c13_e4b318f7d478level0_row1\" class=\"row_heading level0 row1\" >24</th> \n",
       "        <td id=\"T_5041c13a_e24c_11e7_9c13_e4b318f7d478row1_col0\" class=\"data row1 col0\" >0.151202</td> \n",
       "        <td id=\"T_5041c13a_e24c_11e7_9c13_e4b318f7d478row1_col1\" class=\"data row1 col1\" >0.0257044</td> \n",
       "        <td id=\"T_5041c13a_e24c_11e7_9c13_e4b318f7d478row1_col2\" class=\"data row1 col2\" >0.0745132</td> \n",
       "    </tr>    <tr> \n",
       "        <th id=\"T_5041c13a_e24c_11e7_9c13_e4b318f7d478level0_row2\" class=\"row_heading level0 row2\" >44</th> \n",
       "        <td id=\"T_5041c13a_e24c_11e7_9c13_e4b318f7d478row2_col0\" class=\"data row2 col0\" >0.168868</td> \n",
       "        <td id=\"T_5041c13a_e24c_11e7_9c13_e4b318f7d478row2_col1\" class=\"data row2 col1\" >0.0467578</td> \n",
       "        <td id=\"T_5041c13a_e24c_11e7_9c13_e4b318f7d478row2_col2\" class=\"data row2 col2\" >0.0838214</td> \n",
       "    </tr>    <tr> \n",
       "        <th id=\"T_5041c13a_e24c_11e7_9c13_e4b318f7d478level0_row3\" class=\"row_heading level0 row3\" >64</th> \n",
       "        <td id=\"T_5041c13a_e24c_11e7_9c13_e4b318f7d478row3_col0\" class=\"data row3 col0\" >0.206255</td> \n",
       "        <td id=\"T_5041c13a_e24c_11e7_9c13_e4b318f7d478row3_col1\" class=\"data row3 col1\" >0.0896142</td> \n",
       "        <td id=\"T_5041c13a_e24c_11e7_9c13_e4b318f7d478row3_col2\" class=\"data row3 col2\" >0.0844222</td> \n",
       "    </tr>    <tr> \n",
       "        <th id=\"T_5041c13a_e24c_11e7_9c13_e4b318f7d478level0_row4\" class=\"row_heading level0 row4\" >84</th> \n",
       "        <td id=\"T_5041c13a_e24c_11e7_9c13_e4b318f7d478row4_col0\" class=\"data row4 col0\" >0.200158</td> \n",
       "        <td id=\"T_5041c13a_e24c_11e7_9c13_e4b318f7d478row4_col1\" class=\"data row4 col1\" >0.0960841</td> \n",
       "        <td id=\"T_5041c13a_e24c_11e7_9c13_e4b318f7d478row4_col2\" class=\"data row4 col2\" >0.0875621</td> \n",
       "    </tr>    <tr> \n",
       "        <th id=\"T_5041c13a_e24c_11e7_9c13_e4b318f7d478level0_row5\" class=\"row_heading level0 row5\" >104</th> \n",
       "        <td id=\"T_5041c13a_e24c_11e7_9c13_e4b318f7d478row5_col0\" class=\"data row5 col0\" >0.234245</td> \n",
       "        <td id=\"T_5041c13a_e24c_11e7_9c13_e4b318f7d478row5_col1\" class=\"data row5 col1\" >0.11817</td> \n",
       "        <td id=\"T_5041c13a_e24c_11e7_9c13_e4b318f7d478row5_col2\" class=\"data row5 col2\" >0.0931101</td> \n",
       "    </tr>    <tr> \n",
       "        <th id=\"T_5041c13a_e24c_11e7_9c13_e4b318f7d478level0_row6\" class=\"row_heading level0 row6\" >124</th> \n",
       "        <td id=\"T_5041c13a_e24c_11e7_9c13_e4b318f7d478row6_col0\" class=\"data row6 col0\" >0.244757</td> \n",
       "        <td id=\"T_5041c13a_e24c_11e7_9c13_e4b318f7d478row6_col1\" class=\"data row6 col1\" >0.137082</td> \n",
       "        <td id=\"T_5041c13a_e24c_11e7_9c13_e4b318f7d478row6_col2\" class=\"data row6 col2\" >0.0958816</td> \n",
       "    </tr>    <tr> \n",
       "        <th id=\"T_5041c13a_e24c_11e7_9c13_e4b318f7d478level0_row7\" class=\"row_heading level0 row7\" >144</th> \n",
       "        <td id=\"T_5041c13a_e24c_11e7_9c13_e4b318f7d478row7_col0\" class=\"data row7 col0\" >0.249212</td> \n",
       "        <td id=\"T_5041c13a_e24c_11e7_9c13_e4b318f7d478row7_col1\" class=\"data row7 col1\" >0.161065</td> \n",
       "        <td id=\"T_5041c13a_e24c_11e7_9c13_e4b318f7d478row7_col2\" class=\"data row7 col2\" >0.0994426</td> \n",
       "    </tr>    <tr> \n",
       "        <th id=\"T_5041c13a_e24c_11e7_9c13_e4b318f7d478level0_row8\" class=\"row_heading level0 row8\" >164</th> \n",
       "        <td id=\"T_5041c13a_e24c_11e7_9c13_e4b318f7d478row8_col0\" class=\"data row8 col0\" >0.263761</td> \n",
       "        <td id=\"T_5041c13a_e24c_11e7_9c13_e4b318f7d478row8_col1\" class=\"data row8 col1\" >0.180338</td> \n",
       "        <td id=\"T_5041c13a_e24c_11e7_9c13_e4b318f7d478row8_col2\" class=\"data row8 col2\" >0.103951</td> \n",
       "    </tr></tbody> \n",
       "</table> "
      ],
      "text/plain": [
       "<pandas.io.formats.style.Styler at 0x225a04d79e8>"
      ]
     },
     "execution_count": 15,
     "metadata": {},
     "output_type": "execute_result"
    }
   ],
   "source": [
    "df.style.apply(highlight_min, axis=1)"
   ]
  },
  {
   "cell_type": "markdown",
   "metadata": {},
   "source": [
    "In the above results, observe the crossing point where CPU parallel is (and remains) the fastest computational strategy.\n",
    "\n",
    "Furthermore, observe its relative insensitivity to number of columns."
   ]
  },
  {
   "cell_type": "markdown",
   "metadata": {},
   "source": [
    "Next, we're going to repeat the experiment but this time tiling the data 'vertically' so that we add successively more rows."
   ]
  },
  {
   "cell_type": "code",
   "execution_count": 17,
   "metadata": {},
   "outputs": [
    {
     "name": "stdout",
     "output_type": "stream",
     "text": [
      "1 of 9 complete (150, 4)\n",
      "2 of 9 complete (900, 4)\n",
      "3 of 9 complete (1650, 4)\n",
      "4 of 9 complete (2400, 4)\n",
      "5 of 9 complete (3150, 4)\n",
      "6 of 9 complete (3900, 4)\n",
      "7 of 9 complete (4650, 4)\n",
      "8 of 9 complete (5400, 4)\n",
      "9 of 9 complete (6150, 4)\n"
     ]
    }
   ],
   "source": [
    "res = []\n",
    "\n",
    "for idx, i in enumerate(multiples):\n",
    "    data = np.tile(A.T, i).T\n",
    "    o_1 = %timeit -o -q StandardScaler().fit_transform(data)\n",
    "    o_2 = %timeit -o -q standard(data)\n",
    "    o_3 = %timeit -o -q standard_parallel(data)\n",
    "    \n",
    "    res.append((data.shape[0], o_1.best, o_2.best, o_3.best))\n",
    "    print('{0} of {1} complete {2}'.format(idx + 1, len(multiples), data.shape))"
   ]
  },
  {
   "cell_type": "code",
   "execution_count": 18,
   "metadata": {
    "collapsed": true
   },
   "outputs": [],
   "source": [
    "df = pd.DataFrame(res, columns = ['num_rows', 'sklearn', 'numba CPU', 'numba CPU parallel'])"
   ]
  },
  {
   "cell_type": "code",
   "execution_count": 19,
   "metadata": {},
   "outputs": [],
   "source": [
    "df = df.set_index('num_rows')\n",
    "df = df.apply(lambda x: 1000 * x)"
   ]
  },
  {
   "cell_type": "code",
   "execution_count": 20,
   "metadata": {},
   "outputs": [
    {
     "data": {
      "text/plain": [
       "<matplotlib.legend.Legend at 0x225a05ac4e0>"
      ]
     },
     "execution_count": 20,
     "metadata": {},
     "output_type": "execute_result"
    },
    {
     "data": {
      "image/png": "[encoded data removed]",
      "text/plain": [
       "<matplotlib.figure.Figure at 0x225a06d4a90>"
      ]
     },
     "metadata": {},
     "output_type": "display_data"
    }
   ],
   "source": [
    "ax = df.plot()\n",
    "ax.set_title('Standard scale data: n rows by 4 columns')\n",
    "ax.set_xlabel('Number of rows')\n",
    "ax.set_ylabel('Time (ms)')\n",
    "plt.legend(prop={'size': 14})"
   ]
  },
  {
   "cell_type": "code",
   "execution_count": 21,
   "metadata": {},
   "outputs": [
    {
     "data": {
      "text/html": [
       "<style  type=\"text/css\" >\n",
       "    #T_d498a390_e24c_11e7_93cc_e4b318f7d478row0_col1 {\n",
       "            background-color:  yellow;\n",
       "        }    #T_d498a390_e24c_11e7_93cc_e4b318f7d478row1_col2 {\n",
       "            background-color:  yellow;\n",
       "        }    #T_d498a390_e24c_11e7_93cc_e4b318f7d478row2_col1 {\n",
       "            background-color:  yellow;\n",
       "        }    #T_d498a390_e24c_11e7_93cc_e4b318f7d478row3_col1 {\n",
       "            background-color:  yellow;\n",
       "        }    #T_d498a390_e24c_11e7_93cc_e4b318f7d478row4_col1 {\n",
       "            background-color:  yellow;\n",
       "        }    #T_d498a390_e24c_11e7_93cc_e4b318f7d478row5_col1 {\n",
       "            background-color:  yellow;\n",
       "        }    #T_d498a390_e24c_11e7_93cc_e4b318f7d478row6_col1 {\n",
       "            background-color:  yellow;\n",
       "        }    #T_d498a390_e24c_11e7_93cc_e4b318f7d478row7_col1 {\n",
       "            background-color:  yellow;\n",
       "        }    #T_d498a390_e24c_11e7_93cc_e4b318f7d478row8_col1 {\n",
       "            background-color:  yellow;\n",
       "        }</style>  \n",
       "<table id=\"T_d498a390_e24c_11e7_93cc_e4b318f7d478\" > \n",
       "<thead>    <tr> \n",
       "        <th class=\"blank level0\" ></th> \n",
       "        <th class=\"col_heading level0 col0\" >sklearn</th> \n",
       "        <th class=\"col_heading level0 col1\" >numba CPU</th> \n",
       "        <th class=\"col_heading level0 col2\" >numba CPU parallel</th> \n",
       "    </tr>    <tr> \n",
       "        <th class=\"index_name level0\" >num_rows</th> \n",
       "        <th class=\"blank\" ></th> \n",
       "        <th class=\"blank\" ></th> \n",
       "        <th class=\"blank\" ></th> \n",
       "    </tr></thead> \n",
       "<tbody>    <tr> \n",
       "        <th id=\"T_d498a390_e24c_11e7_93cc_e4b318f7d478level0_row0\" class=\"row_heading level0 row0\" >150</th> \n",
       "        <td id=\"T_d498a390_e24c_11e7_93cc_e4b318f7d478row0_col0\" class=\"data row0 col0\" >0.123694</td> \n",
       "        <td id=\"T_d498a390_e24c_11e7_93cc_e4b318f7d478row0_col1\" class=\"data row0 col1\" >0.00479796</td> \n",
       "        <td id=\"T_d498a390_e24c_11e7_93cc_e4b318f7d478row0_col2\" class=\"data row0 col2\" >0.0644024</td> \n",
       "    </tr>    <tr> \n",
       "        <th id=\"T_d498a390_e24c_11e7_93cc_e4b318f7d478level0_row1\" class=\"row_heading level0 row1\" >900</th> \n",
       "        <td id=\"T_d498a390_e24c_11e7_93cc_e4b318f7d478row1_col0\" class=\"data row1 col0\" >0.140786</td> \n",
       "        <td id=\"T_d498a390_e24c_11e7_93cc_e4b318f7d478row1_col1\" class=\"data row1 col1\" >0.0195348</td> \n",
       "        <td id=\"T_d498a390_e24c_11e7_93cc_e4b318f7d478row1_col2\" class=\"data row1 col2\" >0.0181729</td> \n",
       "    </tr>    <tr> \n",
       "        <th id=\"T_d498a390_e24c_11e7_93cc_e4b318f7d478level0_row2\" class=\"row_heading level0 row2\" >1650</th> \n",
       "        <td id=\"T_d498a390_e24c_11e7_93cc_e4b318f7d478row2_col0\" class=\"data row2 col0\" >0.161948</td> \n",
       "        <td id=\"T_d498a390_e24c_11e7_93cc_e4b318f7d478row2_col1\" class=\"data row2 col1\" >0.0342706</td> \n",
       "        <td id=\"T_d498a390_e24c_11e7_93cc_e4b318f7d478row2_col2\" class=\"data row2 col2\" >0.0522027</td> \n",
       "    </tr>    <tr> \n",
       "        <th id=\"T_d498a390_e24c_11e7_93cc_e4b318f7d478level0_row3\" class=\"row_heading level0 row3\" >2400</th> \n",
       "        <td id=\"T_d498a390_e24c_11e7_93cc_e4b318f7d478row3_col0\" class=\"data row3 col0\" >0.2159</td> \n",
       "        <td id=\"T_d498a390_e24c_11e7_93cc_e4b318f7d478row3_col1\" class=\"data row3 col1\" >0.0612522</td> \n",
       "        <td id=\"T_d498a390_e24c_11e7_93cc_e4b318f7d478row3_col2\" class=\"data row3 col2\" >0.0801998</td> \n",
       "    </tr>    <tr> \n",
       "        <th id=\"T_d498a390_e24c_11e7_93cc_e4b318f7d478level0_row4\" class=\"row_heading level0 row4\" >3150</th> \n",
       "        <td id=\"T_d498a390_e24c_11e7_93cc_e4b318f7d478row4_col0\" class=\"data row4 col0\" >0.235414</td> \n",
       "        <td id=\"T_d498a390_e24c_11e7_93cc_e4b318f7d478row4_col1\" class=\"data row4 col1\" >0.0728591</td> \n",
       "        <td id=\"T_d498a390_e24c_11e7_93cc_e4b318f7d478row4_col2\" class=\"data row4 col2\" >0.146206</td> \n",
       "    </tr>    <tr> \n",
       "        <th id=\"T_d498a390_e24c_11e7_93cc_e4b318f7d478level0_row5\" class=\"row_heading level0 row5\" >3900</th> \n",
       "        <td id=\"T_d498a390_e24c_11e7_93cc_e4b318f7d478row5_col0\" class=\"data row5 col0\" >0.315953</td> \n",
       "        <td id=\"T_d498a390_e24c_11e7_93cc_e4b318f7d478row5_col1\" class=\"data row5 col1\" >0.0993358</td> \n",
       "        <td id=\"T_d498a390_e24c_11e7_93cc_e4b318f7d478row5_col2\" class=\"data row5 col2\" >0.159655</td> \n",
       "    </tr>    <tr> \n",
       "        <th id=\"T_d498a390_e24c_11e7_93cc_e4b318f7d478level0_row6\" class=\"row_heading level0 row6\" >4650</th> \n",
       "        <td id=\"T_d498a390_e24c_11e7_93cc_e4b318f7d478row6_col0\" class=\"data row6 col0\" >0.657485</td> \n",
       "        <td id=\"T_d498a390_e24c_11e7_93cc_e4b318f7d478row6_col1\" class=\"data row6 col1\" >0.170097</td> \n",
       "        <td id=\"T_d498a390_e24c_11e7_93cc_e4b318f7d478row6_col2\" class=\"data row6 col2\" >0.246642</td> \n",
       "    </tr>    <tr> \n",
       "        <th id=\"T_d498a390_e24c_11e7_93cc_e4b318f7d478level0_row7\" class=\"row_heading level0 row7\" >5400</th> \n",
       "        <td id=\"T_d498a390_e24c_11e7_93cc_e4b318f7d478row7_col0\" class=\"data row7 col0\" >0.644944</td> \n",
       "        <td id=\"T_d498a390_e24c_11e7_93cc_e4b318f7d478row7_col1\" class=\"data row7 col1\" >0.18712</td> \n",
       "        <td id=\"T_d498a390_e24c_11e7_93cc_e4b318f7d478row7_col2\" class=\"data row7 col2\" >0.415349</td> \n",
       "    </tr>    <tr> \n",
       "        <th id=\"T_d498a390_e24c_11e7_93cc_e4b318f7d478level0_row8\" class=\"row_heading level0 row8\" >6150</th> \n",
       "        <td id=\"T_d498a390_e24c_11e7_93cc_e4b318f7d478row8_col0\" class=\"data row8 col0\" >0.728555</td> \n",
       "        <td id=\"T_d498a390_e24c_11e7_93cc_e4b318f7d478row8_col1\" class=\"data row8 col1\" >0.212345</td> \n",
       "        <td id=\"T_d498a390_e24c_11e7_93cc_e4b318f7d478row8_col2\" class=\"data row8 col2\" >0.461296</td> \n",
       "    </tr></tbody> \n",
       "</table> "
      ],
      "text/plain": [
       "<pandas.io.formats.style.Styler at 0x225a169f1d0>"
      ]
     },
     "execution_count": 21,
     "metadata": {},
     "output_type": "execute_result"
    }
   ],
   "source": [
    "df.style.apply(highlight_min, axis=1)"
   ]
  },
  {
   "cell_type": "markdown",
   "metadata": {},
   "source": [
    "In this case, observe that CPU parallel is almost never optimal.\n",
    "\n",
    "Furthermore, observe its sensitivity to number of rows."
   ]
  }
 ],
 "metadata": {
  "kernelspec": {
   "display_name": "Python 3",
   "language": "python",
   "name": "python3"
  },
  "language_info": {
   "codemirror_mode": {
    "name": "ipython",
    "version": 3
   },
   "file_extension": ".py",
   "mimetype": "text/x-python",
   "name": "python",
   "nbconvert_exporter": "python",
   "pygments_lexer": "ipython3",
   "version": "3.6.3"
  }
 },
 "nbformat": 4,
 "nbformat_minor": 2
}
